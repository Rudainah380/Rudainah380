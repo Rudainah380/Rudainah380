{
 "cells": [
  {
   "cell_type": "code",
   "execution_count": 1,
   "id": "cb6f8040-2eab-4ab6-8640-0bf55a72e6e3",
   "metadata": {},
   "outputs": [],
   "source": [
    "list_a = [1,2,3]"
   ]
  },
  {
   "cell_type": "code",
   "execution_count": 3,
   "id": "b4d47226-32cc-4ffb-ade8-0ac6be74ef9b",
   "metadata": {},
   "outputs": [
    {
     "name": "stdout",
     "output_type": "stream",
     "text": [
      "[1, 2, 3]\n"
     ]
    }
   ],
   "source": [
    "print(list_a)"
   ]
  },
  {
   "cell_type": "code",
   "execution_count": 5,
   "id": "c19a4793-f93f-4a2b-9bbc-8597b08aa697",
   "metadata": {},
   "outputs": [],
   "source": [
    "# assigning my lis_a to another variable then print it\n",
    "Num = list_a"
   ]
  },
  {
   "cell_type": "code",
   "execution_count": 9,
   "id": "cc2e906e-6f9c-4f8b-aa05-f1f0c138d4dd",
   "metadata": {},
   "outputs": [
    {
     "name": "stdout",
     "output_type": "stream",
     "text": [
      "[1, 2, 3]\n"
     ]
    }
   ],
   "source": [
    "# it will print list_a elements\n",
    "print(Num)"
   ]
  },
  {
   "cell_type": "code",
   "execution_count": 11,
   "id": "5ce1a174-86e7-4fe3-be12-56526fa43ddd",
   "metadata": {},
   "outputs": [
    {
     "name": "stdout",
     "output_type": "stream",
     "text": [
      "1 2 3\n"
     ]
    }
   ],
   "source": [
    "a = 1; b = 2; c = 3;\n",
    "print(a,b,c)"
   ]
  },
  {
   "cell_type": "code",
   "execution_count": 15,
   "id": "0ec9c72f-3737-4c74-88bd-230a2388f73f",
   "metadata": {},
   "outputs": [
    {
     "name": "stdout",
     "output_type": "stream",
     "text": [
      "0.9\n",
      "0.4\n"
     ]
    }
   ],
   "source": [
    "glass = 0.5\n",
    "pull = 0.4\n",
    "glass+= pull\n",
    "# the glass value will be glass+pull\n",
    "print (glass)\n",
    "print(pull)"
   ]
  },
  {
   "cell_type": "code",
   "execution_count": 17,
   "id": "8757815a-5a2c-419b-96d0-7ed62b52f22c",
   "metadata": {},
   "outputs": [
    {
     "name": "stdout",
     "output_type": "stream",
     "text": [
      "price after applying the discount 80.0\n",
      "20.0\n"
     ]
    }
   ],
   "source": [
    "price = 100.0\n",
    "discount = 20.0\n",
    "price -=discount\n",
    "print(\"price after applying the discount\", price)\n",
    "print(discount)"
   ]
  },
  {
   "cell_type": "code",
   "execution_count": 30,
   "id": "cab3c10b-befc-4018-9410-6ec4998625e6",
   "metadata": {},
   "outputs": [
    {
     "name": "stdout",
     "output_type": "stream",
     "text": [
      "The number is even\n"
     ]
    }
   ],
   "source": [
    "number = 4\n",
    "if number % 2 == 0:\n",
    "   print(\"The number is even\")\n",
    "else:\n",
    "   print(\"The number is odd\")\n"
   ]
  },
  {
   "cell_type": "code",
   "execution_count": 46,
   "id": "1d3d305b-f0b6-4f48-9705-66b840e6e55b",
   "metadata": {},
   "outputs": [
    {
     "name": "stdout",
     "output_type": "stream",
     "text": [
      "The year you entered is  a leap year\n"
     ]
    }
   ],
   "source": [
    "year = 2020\n",
    "if year % 4 == 0 and year % 100 != 0 or year % 400 == 0:\n",
    "    print(\"The year you entered is  a leap year\")\n",
    "else:\n",
    "    print(\"The year is not a leap year\")"
   ]
  },
  {
   "cell_type": "code",
   "execution_count": 48,
   "id": "db483a18-cff3-4fc4-ae05-62e38d729ffb",
   "metadata": {},
   "outputs": [
    {
     "name": "stdout",
     "output_type": "stream",
     "text": [
      "The year is not a leap year\n"
     ]
    }
   ],
   "source": [
    "# when the condition is false\n",
    "year = 2021\n",
    "if year % 4 == 0 and year % 100 != 0 or year % 400 == 0:\n",
    "    print(\"The year you entered is  a leap year\")\n",
    "else:\n",
    "    print(\"The year is not a leap year\")"
   ]
  },
  {
   "cell_type": "code",
   "execution_count": null,
   "id": "1d4d012a-b472-4b82-abf6-3f98bef5014f",
   "metadata": {},
   "outputs": [],
   "source": []
  }
 ],
 "metadata": {
  "kernelspec": {
   "display_name": "Python 3 (ipykernel)",
   "language": "python",
   "name": "python3"
  },
  "language_info": {
   "codemirror_mode": {
    "name": "ipython",
    "version": 3
   },
   "file_extension": ".py",
   "mimetype": "text/x-python",
   "name": "python",
   "nbconvert_exporter": "python",
   "pygments_lexer": "ipython3",
   "version": "3.12.7"
  }
 },
 "nbformat": 4,
 "nbformat_minor": 5
}
