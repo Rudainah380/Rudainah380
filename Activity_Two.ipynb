{
 "cells": [
  {
   "cell_type": "code",
   "execution_count": 57,
   "id": "126bdb49-5a3d-436e-a757-934fe6f954d6",
   "metadata": {},
   "outputs": [
    {
     "name": "stdin",
     "output_type": "stream",
     "text": [
      "Enter a word: word\n"
     ]
    }
   ],
   "source": [
    "my_word=str((input(\"Enter a word:\")))"
   ]
  },
  {
   "cell_type": "code",
   "execution_count": 59,
   "id": "f80ce2b2-f6c8-4b6a-85b1-a912da39887f",
   "metadata": {},
   "outputs": [
    {
     "name": "stdout",
     "output_type": "stream",
     "text": [
      "word\n"
     ]
    }
   ],
   "source": [
    "print(my_word)"
   ]
  },
  {
   "cell_type": "code",
   "execution_count": 61,
   "id": "c5f932c6-1bf3-4b1e-a5db-b5101bc650b7",
   "metadata": {},
   "outputs": [
    {
     "name": "stdin",
     "output_type": "stream",
     "text": [
      "Enter a number 10\n"
     ]
    }
   ],
   "source": [
    "my_num=int((input(\"Enter a number\")))"
   ]
  },
  {
   "cell_type": "code",
   "execution_count": 63,
   "id": "7cde51ad-447c-4c14-9d5f-24d1937c5c1f",
   "metadata": {},
   "outputs": [
    {
     "name": "stdout",
     "output_type": "stream",
     "text": [
      "10\n"
     ]
    }
   ],
   "source": [
    "print(my_num)"
   ]
  },
  {
   "cell_type": "code",
   "execution_count": 69,
   "id": "b42ccda6-e247-494a-aea6-d67edcdbdcbc",
   "metadata": {},
   "outputs": [
    {
     "name": "stdin",
     "output_type": "stream",
     "text": [
      "Enter a float: 3.14\n"
     ]
    }
   ],
   "source": [
    "my_pi=float((input(\"Enter a float:\")))"
   ]
  },
  {
   "cell_type": "code",
   "execution_count": 71,
   "id": "34f4392c-8ae3-4fd5-a0a8-1d3f2d309712",
   "metadata": {},
   "outputs": [
    {
     "name": "stdout",
     "output_type": "stream",
     "text": [
      "3.14\n"
     ]
    }
   ],
   "source": [
    "print(my_pi)"
   ]
  },
  {
   "cell_type": "code",
   "execution_count": 73,
   "id": "0f6962d0-936a-41c1-8d76-61c5bc58be65",
   "metadata": {},
   "outputs": [
    {
     "name": "stdout",
     "output_type": "stream",
     "text": [
      "0\n",
      "1\n",
      "2\n",
      "3\n",
      "4\n"
     ]
    }
   ],
   "source": [
    "for i in range(5):\n",
    "    print(i)"
   ]
  },
  {
   "cell_type": "code",
   "execution_count": 75,
   "id": "d851b1bb-2d4c-4ba2-8ea7-0fb953f166ff",
   "metadata": {},
   "outputs": [
    {
     "name": "stdout",
     "output_type": "stream",
     "text": [
      "1\n",
      "3\n"
     ]
    }
   ],
   "source": [
    "for i in range(1,5,2):\n",
    "    print(i)\n",
    "               "
   ]
  },
  {
   "cell_type": "code",
   "execution_count": 77,
   "id": "36e3de3d-ae49-4ce1-97da-616172173c20",
   "metadata": {},
   "outputs": [
    {
     "name": "stdout",
     "output_type": "stream",
     "text": [
      "0\n",
      "1\n",
      "2\n",
      "3\n",
      "4\n",
      "5\n",
      "6\n",
      "7\n",
      "8\n",
      "9\n",
      "10\n"
     ]
    }
   ],
   "source": [
    "for i in range(11):\n",
    "    print(i)"
   ]
  },
  {
   "cell_type": "code",
   "execution_count": 79,
   "id": "e3aab7bd-2703-4fa3-bd4c-a2b432f297fb",
   "metadata": {},
   "outputs": [
    {
     "name": "stdout",
     "output_type": "stream",
     "text": [
      "0\n",
      "2\n",
      "4\n",
      "6\n",
      "8\n",
      "10\n"
     ]
    }
   ],
   "source": [
    "for i in range(11):\n",
    "    if i % 2 == 0:\n",
    "        print(i)"
   ]
  },
  {
   "cell_type": "code",
   "execution_count": 87,
   "id": "d9eb0649-608d-47e9-a14e-615a741a08d3",
   "metadata": {},
   "outputs": [
    {
     "name": "stdin",
     "output_type": "stream",
     "text": [
      "Enter the first value: 1\n",
      "Enter the end value: 8\n"
     ]
    },
    {
     "name": "stdout",
     "output_type": "stream",
     "text": [
      "1\n",
      "2\n",
      "3\n",
      "4\n",
      "5\n",
      "6\n",
      "7\n"
     ]
    }
   ],
   "source": [
    "#using start , end , to get the range from the user\n",
    "start = int(input(\"Enter the first value:\"))\n",
    "end = int(input(\"Enter the end value:\"))\n",
    "\n",
    "for i in range(start, end):\n",
    "    print(i)"
   ]
  },
  {
   "cell_type": "code",
   "execution_count": 89,
   "id": "90ece12d-a844-4a99-9923-473cf9dc070a",
   "metadata": {},
   "outputs": [
    {
     "name": "stdin",
     "output_type": "stream",
     "text": [
      "Enter the first value: 1\n",
      "Enter the end value: 8\n",
      "Enter the step value: 2\n"
     ]
    },
    {
     "name": "stdout",
     "output_type": "stream",
     "text": [
      "1\n",
      "3\n",
      "5\n",
      "7\n"
     ]
    }
   ],
   "source": [
    "#using start , end ,step, to get all the range from the user\n",
    "start = int(input(\"Enter the first value:\"))\n",
    "end = int(input(\"Enter the end value:\"))\n",
    "step = int(input(\"Enter the step value:\"))\n",
    "\n",
    "for i in range(start, end, step):\n",
    "    print(i)"
   ]
  },
  {
   "cell_type": "code",
   "execution_count": 95,
   "id": "7fb4c585-611a-4dba-ad3b-fa7b41f41eb7",
   "metadata": {},
   "outputs": [
    {
     "name": "stdout",
     "output_type": "stream",
     "text": [
      "1\n",
      "2\n",
      "3\n",
      "4\n"
     ]
    }
   ],
   "source": [
    "count = 1\n",
    "while(count <=4):\n",
    "    print(count)\n",
    "    count = count+1"
   ]
  },
  {
   "cell_type": "code",
   "execution_count": 1,
   "id": "49be1d52-3798-43e2-951e-5532e9db4e60",
   "metadata": {},
   "outputs": [
    {
     "name": "stdout",
     "output_type": "stream",
     "text": [
      "1\n",
      "2\n",
      "3\n",
      "4\n",
      "5\n",
      "6\n",
      "7\n",
      "8\n",
      "9\n",
      "10\n",
      "11\n",
      "12\n",
      "13\n",
      "14\n",
      "15\n",
      "16\n",
      "17\n"
     ]
    }
   ],
   "source": [
    "count = 1\n",
    "while(count <=17):\n",
    "    print(count)\n",
    "    count = count+1"
   ]
  },
  {
   "cell_type": "code",
   "execution_count": 10,
   "id": "721cacbf-d586-49fc-b4dd-79156590cb25",
   "metadata": {},
   "outputs": [
    {
     "name": "stdout",
     "output_type": "stream",
     "text": [
      "1\n",
      "3\n",
      "5\n",
      "7\n",
      "9\n",
      "11\n",
      "13\n",
      "15\n",
      "17\n",
      "19\n",
      "21\n",
      "23\n",
      "25\n",
      "27\n"
     ]
    }
   ],
   "source": [
    "count = 1\n",
    "while(count <=28):\n",
    "    print(count)\n",
    "    count += 2 # when increasing by two it will only print odd numbers less than or equal to 28"
   ]
  },
  {
   "cell_type": "code",
   "execution_count": 19,
   "id": "4d88f472-51e8-40c6-a696-66a38d9d4b2f",
   "metadata": {},
   "outputs": [
    {
     "name": "stdin",
     "output_type": "stream",
     "text": [
      "Enter number:  5\n"
     ]
    },
    {
     "name": "stdout",
     "output_type": "stream",
     "text": [
      "bingo the number is 5\n"
     ]
    }
   ],
   "source": [
    "count = 1\n",
    "user_input = int(input(\"Enter number: \"))\n",
    "\n",
    "\n",
    "while count <= user_input:\n",
    "    if count == 5:\n",
    "        print(\"bingo the number is 5\")\n",
    "#to stop loop from running forever\n",
    "    count += 1\n",
    "\n",
    "    "
   ]
  },
  {
   "cell_type": "code",
   "execution_count": 35,
   "id": "785f20dd-bff7-41ee-bc01-3ee358cb20fc",
   "metadata": {},
   "outputs": [
    {
     "name": "stdout",
     "output_type": "stream",
     "text": [
      "0\n",
      "1\n",
      "2\n",
      "3\n",
      "The current number is 3 you are leaving the for loop\n"
     ]
    }
   ],
   "source": [
    "# break inside for loop\n",
    "for i in range(5):\n",
    "    print(i)\n",
    "    if i == 3:\n",
    "        print(\"The current number is %d you are leaving the for loop\" %i)\n",
    "        break # the program will stop when it reaches the condition\"3\""
   ]
  },
  {
   "cell_type": "code",
   "execution_count": 39,
   "id": "420508f6-3031-48d4-bfc4-2dd9314d7dd2",
   "metadata": {},
   "outputs": [
    {
     "name": "stdout",
     "output_type": "stream",
     "text": [
      "value of varible num is: 0\n",
      "\n",
      "value of varible num is: 1\n",
      "\n",
      "value of varible num is: 2\n",
      "\n",
      "Your are leaving the while loop\n"
     ]
    }
   ],
   "source": [
    "num = 0\n",
    "while (num <=100):\n",
    "    print(\"value of varible num is: %d\\n\" %num)\n",
    "\n",
    "    if num == 2:\n",
    "        print(\"Your are leaving the while loop\")\n",
    "        break\n",
    "    num+=1"
   ]
  },
  {
   "cell_type": "code",
   "execution_count": 43,
   "id": "91e97d06-7d24-4005-9018-8f5f8ffb8c2b",
   "metadata": {},
   "outputs": [
    {
     "name": "stdout",
     "output_type": "stream",
     "text": [
      "0\n",
      "1\n",
      "2\n",
      "3\n",
      "4\n",
      "5\n",
      "6\n",
      "7\n",
      "8\n",
      "9\n",
      "10\n",
      "The loop is stopped\n"
     ]
    }
   ],
   "source": [
    "num = 0\n",
    "while (num <=15):\n",
    "    print(num)\n",
    "\n",
    "    if num == 10:\n",
    "        print(\"The loop is stopped\")\n",
    "        break\n",
    "    num+=1"
   ]
  },
  {
   "cell_type": "code",
   "execution_count": 75,
   "id": "720be675-05b5-4344-9976-cbc442840aa9",
   "metadata": {},
   "outputs": [
    {
     "name": "stdout",
     "output_type": "stream",
     "text": [
      "1\n",
      "3\n",
      "5\n",
      "7\n",
      "9\n",
      "11\n",
      "The loop is stopped\n"
     ]
    }
   ],
   "source": [
    "num = 1\n",
    "while num <=18:\n",
    "    if num > 12: \n",
    "        print(\"The loop is stopped\")\n",
    "        break\n",
    "    \n",
    "    print(num)\n",
    "    num += 2"
   ]
  },
  {
   "cell_type": "code",
   "execution_count": 14,
   "id": "a72f3d18-1a5e-44dc-a476-212e9e3ce619",
   "metadata": {},
   "outputs": [
    {
     "name": "stdin",
     "output_type": "stream",
     "text": [
      "Enter number:  14\n"
     ]
    },
    {
     "name": "stdout",
     "output_type": "stream",
     "text": [
      "1\n",
      "2\n",
      "3\n",
      "4\n",
      "5\n",
      "6\n",
      "7\n"
     ]
    }
   ],
   "source": [
    "user_input = int(input(\"Enter number: \"))\n",
    "count = 1\n",
    "half_num = user_input//2\n",
    "\n",
    "while count <= user_input:\n",
    "    if count > half_num:\n",
    "        break\n",
    "\n",
    "    print(count)\n",
    "\n",
    "    count += 1\n"
   ]
  },
  {
   "cell_type": "code",
   "execution_count": 18,
   "id": "1e8de38d-b2f4-46e1-8a48-b69c534959d0",
   "metadata": {},
   "outputs": [
    {
     "name": "stdout",
     "output_type": "stream",
     "text": [
      "0\n",
      "1\n",
      "2\n",
      "The vallue 3 was skipped due to continue jump statement\n",
      "4\n"
     ]
    }
   ],
   "source": [
    "for i in range(5):\n",
    "\n",
    "    if i==3:\n",
    "        print(\"The vallue %d was skipped due to continue jump statement\" %i)\n",
    "        continue\n",
    "    print(i)"
   ]
  },
  {
   "cell_type": "code",
   "execution_count": 22,
   "id": "58843c10-47fa-40fb-9dbf-2bda49905f61",
   "metadata": {},
   "outputs": [
    {
     "name": "stdout",
     "output_type": "stream",
     "text": [
      "1\n",
      "The value 2 will be skipped!\n",
      "3\n",
      "4\n",
      "5\n"
     ]
    }
   ],
   "source": [
    "num=0\n",
    "while (num<5):\n",
    "    num+=1\n",
    "    if num==2:\n",
    "        print(\"The value %d will be skipped!\" %num)\n",
    "        continue\n",
    "    print(num)"
   ]
  },
  {
   "cell_type": "code",
   "execution_count": 26,
   "id": "6b6ac5eb-0657-411f-80fd-2e51f1968805",
   "metadata": {},
   "outputs": [
    {
     "name": "stdout",
     "output_type": "stream",
     "text": [
      "The value 1 is not divisible by 2!\n",
      "2\n",
      "The value 3 is not divisible by 2!\n",
      "4\n",
      "The value 5 is not divisible by 2!\n",
      "6\n",
      "The value 7 is not divisible by 2!\n",
      "8\n",
      "The value 9 is not divisible by 2!\n",
      "10\n"
     ]
    }
   ],
   "source": [
    "num=0\n",
    "while(num<=9):\n",
    "    num+=1\n",
    "    if num %2 !=0:\n",
    "        print(\"The value %d is not divisible by 2!\" %num)\n",
    "        continue\n",
    "    print(num)"
   ]
  },
  {
   "cell_type": "code",
   "execution_count": 38,
   "id": "31b132ed-3e99-4c00-97ab-693ac2a9694f",
   "metadata": {},
   "outputs": [
    {
     "name": "stdout",
     "output_type": "stream",
     "text": [
      "2\n",
      "4\n",
      "6\n",
      "8\n",
      "10\n",
      "12\n",
      "14\n",
      "16\n"
     ]
    }
   ],
   "source": [
    "num=0\n",
    "while(num<=16):\n",
    "    num+=1\n",
    "    if num %2 !=0:\n",
    "        #now that I deleted the print statment after the condition so it will only print the even numbers\n",
    "        continue\n",
    "    print(num)"
   ]
  },
  {
   "cell_type": "code",
   "execution_count": 54,
   "id": "df36a952-ba7f-4beb-b78f-aba4ab96d662",
   "metadata": {},
   "outputs": [
    {
     "name": "stdout",
     "output_type": "stream",
     "text": [
      "The average is: 2.0\n"
     ]
    }
   ],
   "source": [
    "def myAverage(x,y,z):\n",
    "    result=(x+y+z)/3\n",
    "    print(\"The average is:\", result)\n",
    "#calling the function\n",
    "myAverage(1,2,3)"
   ]
  },
  {
   "cell_type": "code",
   "execution_count": 58,
   "id": "30f30df1-8aa9-4515-aefe-2c3c75026137",
   "metadata": {},
   "outputs": [
    {
     "name": "stdout",
     "output_type": "stream",
     "text": [
      "The sum of the numbers: 15\n"
     ]
    }
   ],
   "source": [
    "def mySum(a,b,c,d,e):\n",
    "    calculate_sum=(a+b+c+d+e)\n",
    "    print(\"The sum of the numbers:\", calculate_sum)\n",
    "#calling the function\n",
    "mySum(1,2,3,4,5)\n"
   ]
  },
  {
   "cell_type": "code",
   "execution_count": 60,
   "id": "0c6d263c-67b1-44b4-b805-003576d507b1",
   "metadata": {},
   "outputs": [
    {
     "name": "stdout",
     "output_type": "stream",
     "text": [
      "27\n"
     ]
    }
   ],
   "source": [
    "def solve_equation(a,b,c,x):\n",
    "    solve_func=a*(x**2)+b*x+c\n",
    "    print(solve_func)\n",
    "solve_equation(1,2,3,4)"
   ]
  },
  {
   "cell_type": "code",
   "execution_count": 94,
   "id": "c56ae7e0-d15e-458f-b92f-9bab4580103f",
   "metadata": {},
   "outputs": [
    {
     "name": "stdin",
     "output_type": "stream",
     "text": [
      "Enter the height of triangle:  5\n"
     ]
    },
    {
     "name": "stdout",
     "output_type": "stream",
     "text": [
      "The area of the Triangle is: 25.0\n"
     ]
    }
   ],
   "source": [
    "def T_area(b,h):\n",
    "    T_result=1/2*b*h\n",
    "    print(\"The area of the Triangle is:\",T_result)\n",
    "h  = int(input(\"Enter the height of triangle: \"))\n",
    "T_area(10,h)"
   ]
  },
  {
   "cell_type": "code",
   "execution_count": 98,
   "id": "1af326b2-e2c3-4a1a-9f52-f6c44eda97ba",
   "metadata": {},
   "outputs": [
    {
     "name": "stdin",
     "output_type": "stream",
     "text": [
      "Enter the radius of the circul:  5\n"
     ]
    },
    {
     "name": "stdout",
     "output_type": "stream",
     "text": [
      "The area of the circle is: 78.5\n"
     ]
    }
   ],
   "source": [
    "def C_area(pi,r):\n",
    "    C_result=pi*(r**2)\n",
    "    print(\"The area of the circle is:\", C_result)\n",
    "r = int(input(\"Enter the radius of the circul: \"))\n",
    "C_area(3.14,r)"
   ]
  },
  {
   "cell_type": "code",
   "execution_count": 100,
   "id": "07a223f5-26ac-4ceb-8333-48aaa5a59380",
   "metadata": {},
   "outputs": [
    {
     "name": "stdin",
     "output_type": "stream",
     "text": [
      "Enter the height:  7\n"
     ]
    },
    {
     "name": "stdout",
     "output_type": "stream",
     "text": [
      "The volime of the cylinder is: 549.5\n"
     ]
    }
   ],
   "source": [
    "def volume_c(pi,r,h):\n",
    "    V_result=pi*(r**2)*h\n",
    "    print(\"The volime of the cylinder is:\", V_result)\n",
    "h = int(input(\"Enter the height: \"))\n",
    "volume_c(3.14,5,h)"
   ]
  },
  {
   "cell_type": "code",
   "execution_count": 108,
   "id": "4e4306d4-1aa3-4549-9505-a8890e665ba4",
   "metadata": {},
   "outputs": [
    {
     "name": "stdout",
     "output_type": "stream",
     "text": [
      "The Circumference of earth is: 40009.880000000005\n"
     ]
    }
   ],
   "source": [
    "def earth(pi,r):\n",
    "    Circumference=2*pi*r\n",
    "    print(\"The Circumference of earth is:\", Circumference)\n",
    "earth(3.14,6371)"
   ]
  },
  {
   "cell_type": "code",
   "execution_count": null,
   "id": "90ac37d3-3102-4d2d-9c14-6b0be7d3c0f2",
   "metadata": {},
   "outputs": [],
   "source": []
  }
 ],
 "metadata": {
  "kernelspec": {
   "display_name": "Python 3 (ipykernel)",
   "language": "python",
   "name": "python3"
  },
  "language_info": {
   "codemirror_mode": {
    "name": "ipython",
    "version": 3
   },
   "file_extension": ".py",
   "mimetype": "text/x-python",
   "name": "python",
   "nbconvert_exporter": "python",
   "pygments_lexer": "ipython3",
   "version": "3.12.7"
  }
 },
 "nbformat": 4,
 "nbformat_minor": 5
}
